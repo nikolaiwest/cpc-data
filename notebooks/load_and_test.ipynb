{
 "cells": [
  {
   "cell_type": "markdown",
   "id": "24dc60a6",
   "metadata": {},
   "source": [
    "## Simple notebook for in-dev testing of the project"
   ]
  },
  {
   "cell_type": "code",
   "execution_count": 9,
   "id": "e85991e8",
   "metadata": {},
   "outputs": [],
   "source": [
    "import sys\n",
    "import os\n",
    "\n",
    "# Add project root to Python path\n",
    "project_root = os.path.abspath(os.path.join(os.getcwd(), '..'))\n",
    "if project_root not in sys.path:\n",
    "    sys.path.insert(0, project_root)\n"
   ]
  },
  {
   "cell_type": "code",
   "execution_count": 10,
   "id": "5266f87b",
   "metadata": {},
   "outputs": [],
   "source": [
    "# Set up proper pathing for the notebook\n",
    "import os\n",
    "import sys\n",
    "import pandas as pd \n",
    "\n",
    "# Get the absolute path of the directory containing the notebook\n",
    "notebook_current_working_dir = os.getcwd() \n",
    "\n",
    "# Go up one level to the parent_directory\n",
    "parent_dir_to_add = os.path.abspath(os.path.join(notebook_current_working_dir, '..'))\n",
    "\n",
    "# Add the parent_directory to the Python path if it's not already there\n",
    "if parent_dir_to_add not in sys.path:\n",
    "    sys.path.insert(0, parent_dir_to_add) # Use insert(0, ...) to give it high priority"
   ]
  },
  {
   "cell_type": "code",
   "execution_count": 11,
   "id": "4da47fc0",
   "metadata": {},
   "outputs": [],
   "source": [
    "from schema import ExperimentData\n",
    "\n",
    "experiment_data = ExperimentData(upper_workpiece_id=5860)\n",
    "\n",
    "experiment_data.plot_data()\n"
   ]
  },
  {
   "cell_type": "code",
   "execution_count": 12,
   "id": "656707f6",
   "metadata": {},
   "outputs": [],
   "source": [
    "from settings import get_settings\n",
    "\n",
    "settings = get_settings()\n",
    "\n",
    "settings"
   ]
  }
 ],
 "metadata": {
  "kernelspec": {
   "display_name": "venv",
   "language": "python",
   "name": "python3"
  },
  "language_info": {
   "codemirror_mode": {
    "name": "ipython",
    "version": 3
   },
   "file_extension": ".py",
   "mimetype": "text/x-python",
   "name": "python",
   "nbconvert_exporter": "python",
   "pygments_lexer": "ipython3",
   "version": "3.11.9"
  }
 },
 "nbformat": 4,
 "nbformat_minor": 5
}
