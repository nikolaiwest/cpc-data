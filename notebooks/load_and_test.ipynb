{
 "cells": [
  {
   "cell_type": "markdown",
   "id": "24dc60a6",
   "metadata": {},
   "source": [
    "## Simple notebook for in-dev testing of the project"
   ]
  },
  {
   "cell_type": "code",
   "execution_count": 7,
   "id": "5266f87b",
   "metadata": {},
   "outputs": [],
   "source": [
    "# Set up proper pathing for the notebook\n",
    "import os\n",
    "import sys\n",
    "import pandas as pd \n",
    "\n",
    "# Get the absolute path of the directory containing the notebook\n",
    "notebook_current_working_dir = os.getcwd() \n",
    "\n",
    "# Go up one level to the parent_directory\n",
    "parent_dir_to_add = os.path.abspath(os.path.join(notebook_current_working_dir, '..'))\n",
    "\n",
    "# Add the parent_directory to the Python path if it's not already there\n",
    "if parent_dir_to_add not in sys.path:\n",
    "    sys.path.insert(0, parent_dir_to_add) # Use insert(0, ...) to give it high priority"
   ]
  },
  {
   "cell_type": "code",
   "execution_count": 17,
   "id": "4da47fc0",
   "metadata": {},
   "outputs": [
    {
     "name": "stdout",
     "output_type": "stream",
     "text": [
      "Processing torque (left): 1239 -> 500 samples\n"
     ]
    },
    {
     "data": {
      "text/plain": [
       "1239"
      ]
     },
     "execution_count": 17,
     "metadata": {},
     "output_type": "execute_result"
    }
   ],
   "source": [
    "from schema import ExperimentData\n",
    "\n",
    "experiment_data = ExperimentData(upper_workpiece_id=5860)\n",
    "\n",
    "len(experiment_data.get_data()[\"screw_left\"][\"time\"])"
   ]
  },
  {
   "cell_type": "code",
   "execution_count": 9,
   "id": "65dbc521",
   "metadata": {},
   "outputs": [
    {
     "name": "stdout",
     "output_type": "stream",
     "text": [
      "Processing torque (left): 1239 -> 500 samples\n",
      "Processing torque (left): 1257 -> 500 samples\n"
     ]
    },
    {
     "data": {
      "text/plain": [
       "Index(['injection_upper_time_series',\n",
       "       'injection_upper_injection_pressure_target',\n",
       "       'injection_upper_injection_pressure_actual',\n",
       "       'injection_upper_melt_volume', 'injection_upper_injection_velocity',\n",
       "       'injection_upper_state', 'screw_left_time_0', 'screw_left_time_1',\n",
       "       'screw_left_time_2', 'screw_left_time_3',\n",
       "       ...\n",
       "       'screw_right_gradient_1183', 'screw_right_gradient_1184',\n",
       "       'screw_right_gradient_1185', 'screw_right_gradient_1186',\n",
       "       'screw_right_gradient_1187', 'screw_right_gradient_1188',\n",
       "       'screw_right_gradient_1189', 'screw_right_gradient_1190',\n",
       "       'screw_right_gradient_1191', 'screw_right_gradient_1192'],\n",
       "      dtype='object', length=9049)"
      ]
     },
     "execution_count": 9,
     "metadata": {},
     "output_type": "execute_result"
    }
   ],
   "source": [
    "from schema import ExperimentDataset\n",
    "\n",
    "experiment_dataset = ExperimentDataset.from_ids(upper_workpiece_ids=[5860, 5861])\n",
    "\n",
    "experiment_dataset.get_data().keys()"
   ]
  },
  {
   "cell_type": "code",
   "execution_count": 10,
   "id": "656707f6",
   "metadata": {},
   "outputs": [
    {
     "data": {
      "text/plain": [
       "{'processing': {'injection_molding': {'upper_workpiece': {'injection_pressure_target': {'remove_negative_values': False,\n",
       "     'apply_equal_distance': False,\n",
       "     'apply_equal_lengths': False},\n",
       "    'injection_pressure_actual': {'remove_negative_values': False,\n",
       "     'apply_equal_distance': False,\n",
       "     'apply_equal_lengths': False},\n",
       "    'melt_volume': {'remove_negative_values': False,\n",
       "     'apply_equal_distance': False,\n",
       "     'apply_equal_lengths': False},\n",
       "    'injection_velocity': {'remove_negative_values': False,\n",
       "     'apply_equal_distance': False,\n",
       "     'apply_equal_lengths': False},\n",
       "    'time': {'remove_negative_values': False,\n",
       "     'apply_equal_distance': False,\n",
       "     'apply_equal_lengths': False},\n",
       "    'state': {'remove_negative_values': False,\n",
       "     'apply_equal_distance': False,\n",
       "     'apply_equal_lengths': False}},\n",
       "   'lower_workpiece': {'injection_pressure_target': {'remove_negative_values': False,\n",
       "     'apply_equal_distance': False,\n",
       "     'apply_equal_lengths': False},\n",
       "    'injection_pressure_actual': {'remove_negative_values': False,\n",
       "     'apply_equal_distance': False,\n",
       "     'apply_equal_lengths': False},\n",
       "    'melt_volume': {'remove_negative_values': False,\n",
       "     'apply_equal_distance': False,\n",
       "     'apply_equal_lengths': False},\n",
       "    'injection_velocity': {'remove_negative_values': False,\n",
       "     'apply_equal_distance': False,\n",
       "     'apply_equal_lengths': False},\n",
       "    'time': {'remove_negative_values': False,\n",
       "     'apply_equal_distance': False,\n",
       "     'apply_equal_lengths': False},\n",
       "    'state': {'remove_negative_values': False,\n",
       "     'apply_equal_distance': False,\n",
       "     'apply_equal_lengths': False}}},\n",
       "  'screw_driving': {'left': {'torque': {'remove_negative_values': False,\n",
       "     'apply_equal_distance': False,\n",
       "     'apply_equal_lengths': {'target_length': 500,\n",
       "      'cutoff_position': 'post',\n",
       "      'padding_val': 0.0,\n",
       "      'padding_pos': 'post'}},\n",
       "    'angle': {'remove_negative_values': False,\n",
       "     'apply_equal_distance': False,\n",
       "     'apply_equal_lengths': False},\n",
       "    'gradient': {'remove_negative_values': False,\n",
       "     'apply_equal_distance': False,\n",
       "     'apply_equal_lengths': False},\n",
       "    'time': {'remove_negative_values': False,\n",
       "     'apply_equal_distance': False,\n",
       "     'apply_equal_lengths': False},\n",
       "    'torqueRed': {'remove_negative_values': False,\n",
       "     'apply_equal_distance': False,\n",
       "     'apply_equal_lengths': False},\n",
       "    'angleRed': {'remove_negative_values': False,\n",
       "     'apply_equal_distance': False,\n",
       "     'apply_equal_lengths': False}},\n",
       "   'right': {'torque': {'remove_negative_values': False,\n",
       "     'apply_equal_distance': False,\n",
       "     'apply_equal_lengths': False},\n",
       "    'angle': {'remove_negative_values': False,\n",
       "     'apply_equal_distance': False,\n",
       "     'apply_equal_lengths': False},\n",
       "    'gradient': {'remove_negative_values': False,\n",
       "     'apply_equal_distance': False,\n",
       "     'apply_equal_lengths': False},\n",
       "    'time': {'remove_negative_values': False,\n",
       "     'apply_equal_distance': False,\n",
       "     'apply_equal_lengths': False},\n",
       "    'torqueRed': {'remove_negative_values': False,\n",
       "     'apply_equal_distance': False,\n",
       "     'apply_equal_lengths': False},\n",
       "    'angleRed': {'remove_negative_values': False,\n",
       "     'apply_equal_distance': False,\n",
       "     'apply_equal_lengths': False}}}},\n",
       " 'extraction': {'injection_molding': {'upper_workpiece': {'injection_pressure_target': {'use_series': True,\n",
       "     'method': 'raw',\n",
       "     'paa_target_length': 200,\n",
       "     'pca_n_components': 24,\n",
       "     'use_catch24': True,\n",
       "     'tsfresh_feature_set': 'efficient'},\n",
       "    'injection_pressure_actual': {'use_series': True, 'method': 'raw'},\n",
       "    'melt_volume': {'use_series': True, 'method': 'raw'},\n",
       "    'injection_velocity': {'use_series': True, 'method': 'raw'},\n",
       "    'state': {'use_series': False}},\n",
       "   'lower_workpiece': {'injection_pressure_target': {'use_series': True,\n",
       "     'method': 'raw'},\n",
       "    'injection_pressure_actual': {'use_series': True, 'method': 'raw'},\n",
       "    'melt_volume': {'use_series': True, 'method': 'raw'},\n",
       "    'injection_velocity': {'use_series': True, 'method': 'raw'},\n",
       "    'state': {'use_series': False}}},\n",
       "  'screw_driving': {'left': {'torque': {'use_series': True, 'method': 'raw'},\n",
       "    'angle': {'use_series': True, 'method': 'raw'},\n",
       "    'gradient': {'use_series': True, 'method': 'raw'},\n",
       "    'time': {'use_series': False},\n",
       "    'torqueRed': {'use_series': False},\n",
       "    'angleRed': {'use_series': False}},\n",
       "   'right': {'torque': {'use_series': True, 'method': 'raw'},\n",
       "    'angle': {'use_series': True, 'method': 'raw'},\n",
       "    'gradient': {'use_series': True, 'method': 'raw'},\n",
       "    'time': {'use_series': False},\n",
       "    'torqueRed': {'use_series': False},\n",
       "    'angleRed': {'use_series': False}}}}}"
      ]
     },
     "execution_count": 10,
     "metadata": {},
     "output_type": "execute_result"
    }
   ],
   "source": [
    "from settings import get_settings\n",
    "\n",
    "settings = get_settings()\n",
    "\n",
    "settings"
   ]
  }
 ],
 "metadata": {
  "kernelspec": {
   "display_name": "venv",
   "language": "python",
   "name": "python3"
  },
  "language_info": {
   "codemirror_mode": {
    "name": "ipython",
    "version": 3
   },
   "file_extension": ".py",
   "mimetype": "text/x-python",
   "name": "python",
   "nbconvert_exporter": "python",
   "pygments_lexer": "ipython3",
   "version": "3.11.9"
  }
 },
 "nbformat": 4,
 "nbformat_minor": 5
}
