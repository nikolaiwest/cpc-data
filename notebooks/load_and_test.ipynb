{
 "cells": [
  {
   "cell_type": "markdown",
   "id": "24dc60a6",
   "metadata": {},
   "source": [
    "## Simple notebook for in-dev testing of the project"
   ]
  },
  {
   "cell_type": "code",
   "execution_count": null,
   "id": "5266f87b",
   "metadata": {},
   "outputs": [
    {
     "data": {
      "text/plain": [
       "ExperimentData(upper_workpiece_id=1, available=['injection_upper'])"
      ]
     },
     "execution_count": 2,
     "metadata": {},
     "output_type": "execute_result"
    }
   ],
   "source": [
    "# Set up proper pathing for the notebook\n",
    "import os\n",
    "import sys\n",
    "\n",
    "# Get the absolute path of the directory containing the notebook\n",
    "notebook_current_working_dir = os.getcwd() \n",
    "\n",
    "# Go up one level to the parent_directory\n",
    "parent_dir_to_add = os.path.abspath(os.path.join(notebook_current_working_dir, '..'))\n",
    "\n",
    "# Add the parent_directory to the Python path if it's not already there\n",
    "if parent_dir_to_add not in sys.path:\n",
    "    sys.path.insert(0, parent_dir_to_add) # Use insert(0, ...) to give it high priority\n",
    "\n",
    "from schema import ExperimentData\n",
    "\n",
    "experiment_data = ExperimentData(upper_workpiece_id=1)\n",
    "\n",
    "experiment_data"
   ]
  }
 ],
 "metadata": {
  "kernelspec": {
   "display_name": "venv",
   "language": "python",
   "name": "python3"
  },
  "language_info": {
   "codemirror_mode": {
    "name": "ipython",
    "version": 3
   },
   "file_extension": ".py",
   "mimetype": "text/x-python",
   "name": "python",
   "nbconvert_exporter": "python",
   "pygments_lexer": "ipython3",
   "version": "3.11.9"
  }
 },
 "nbformat": 4,
 "nbformat_minor": 5
}
