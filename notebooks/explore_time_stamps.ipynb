{
 "cells": [
  {
   "cell_type": "markdown",
   "id": "88769f44",
   "metadata": {},
   "source": [
    "### Explore time stamps\n",
    "\n",
    "For a proper processing of the time series and for handling missing values, this notebook explores the time stamps of recorded data."
   ]
  },
  {
   "cell_type": "code",
   "execution_count": null,
   "id": "bebecfd1",
   "metadata": {},
   "outputs": [],
   "source": [
    "# Imports\n",
    "\n",
    "import os\n",
    "import sys\n",
    "\n",
    "# Add project root to Python path\n",
    "project_root = os.path.abspath(os.path.join(os.getcwd(), '..'))\n",
    "if project_root not in sys.path:\n",
    "    sys.path.insert(0, project_root)\n",
    "\n",
    "\n",
    "import json\n",
    "from typing import List\n",
    "\n",
    "import matplotlib.pyplot as plt\n",
    "import pandas as pd\n",
    "\n",
    "from schema import ExperimentData\n",
    "from utils import (get_data_path, get_screw_driving_static_data,\n",
    "                   get_screw_driving_serial_data)"
   ]
  },
  {
   "cell_type": "markdown",
   "id": "7d0c8f96",
   "metadata": {},
   "source": [
    "### Screw driving:"
   ]
  },
  {
   "cell_type": "code",
   "execution_count": null,
   "id": "1beee2f9",
   "metadata": {},
   "outputs": [],
   "source": [
    "# Load and look at one screw run \n",
    "\n",
    "with open(get_screw_driving_serial_data(\"Ch_000001619516.json\")) as file:\n",
    "    screw_dict = json.load(file)\n",
    "\n",
    "time_stamp = []\n",
    "\n",
    "for step in screw_dict[\"tightening steps\"]:\n",
    "    time_stamp.extend(step[\"graph\"][\"time values\"])\n",
    "\n",
    "target_interval = 0.0012\n",
    "ideal_time = [round(target_interval*r, 4) for r in range(0, int(max(time_stamp)/target_interval)+1)]\n",
    "\n",
    "missing_stamps = len(ideal_time) - len(time_stamp)\n",
    "not_missing = [\"green\" if s in time_stamp else \"red\" for s in ideal_time ]\n",
    "\n",
    "plt.scatter(ideal_time, range(0, len(ideal_time)), color=not_missing)\n",
    "plt.show()\n",
    "\n",
    "# most are missing towards the end, when torque changes quickly"
   ]
  },
  {
   "cell_type": "code",
   "execution_count": null,
   "id": "b7c4bfdc",
   "metadata": {},
   "outputs": [],
   "source": [
    "# Iterate all and plot as hist \n",
    "def get_screw_missing_stamps(pos: str) -> List[int]:\n",
    "    \"\"\"Get missing time stamp counts for screw driving recordings.\"\"\"\n",
    "    # Load static data and filter by position\n",
    "    static_data = pd.read_csv(get_screw_driving_static_data(), sep=\";\")\n",
    "    static_data = static_data[static_data.workpiece_location == pos]\n",
    "    \n",
    "    missing_counts = []\n",
    "    target_interval = 0.0012\n",
    "    \n",
    "    # Iterate all file names\n",
    "    for file_name in static_data.file_name.tolist():\n",
    "        with open(get_screw_driving_serial_data(file_name)) as file:\n",
    "            screw_dict = json.load(file)\n",
    "        \n",
    "        # Extract all time stamps\n",
    "        time_stamps = []\n",
    "        for step in screw_dict[\"tightening steps\"]:\n",
    "            time_stamps.extend(step[\"graph\"][\"time values\"])\n",
    "        \n",
    "        # Calculate missing stamps\n",
    "        if time_stamps:\n",
    "            ideal_time = [round(target_interval*r, 4) for r in range(0, int(max(time_stamps)/target_interval)+1)]\n",
    "            missing_stamps = len(ideal_time) - len(time_stamps)\n",
    "            missing_counts.append(missing_stamps)\n",
    "    \n",
    "    return missing_counts\n",
    "\n",
    "def plot_missing_stamps(pos: str) -> None:\n",
    "    \"\"\"Plot histogram of missing time stamps.\"\"\"\n",
    "    missing = get_screw_missing_stamps(pos)\n",
    "    plt.hist(missing, bins=30)\n",
    "    plt.title(f\"Missing Time Stamps - {pos} screw runs\")\n",
    "    plt.xlabel(\"Number of missing stamps\")\n",
    "    plt.ylabel(\"Count\")\n",
    "    plt.show()"
   ]
  },
  {
   "cell_type": "code",
   "execution_count": null,
   "id": "be85e2e0",
   "metadata": {},
   "outputs": [],
   "source": [
    "plot_missing_stamps(\"right\")\n"
   ]
  },
  {
   "cell_type": "markdown",
   "id": "a0be28bd",
   "metadata": {},
   "source": [
    "### Injection molding:"
   ]
  },
  {
   "cell_type": "code",
   "execution_count": null,
   "id": "9018f0c1",
   "metadata": {},
   "outputs": [],
   "source": [
    "def get_injection_missing_stamps(workpiece_type: str) -> List[int]:\n",
    "    \"\"\"Get missing time stamp counts for injection molding recordings.\"\"\"\n",
    "    # Get the directory path and file pattern\n",
    "    data_dir = get_data_path(\"injection_molding\", f\"{workpiece_type}_workpiece\", \"serial_data\")\n",
    "    \n",
    "    if workpiece_type == \"upper\":\n",
    "        files = list(data_dir.glob(\"*.csv\"))\n",
    "        target_interval = 0.01  # 10ms intervals\n",
    "    elif workpiece_type == \"lower\":\n",
    "        files = list(data_dir.glob(\"*.txt\"))\n",
    "        target_interval = 0.03  # 30ms \n",
    "    else:\n",
    "        raise ValueError(f\"workpiece_type must be 'upper' or 'lower', got: {workpiece_type}\")\n",
    "    \n",
    "    missing_counts = []\n",
    "    \n",
    "    for file_path in files:\n",
    "        try:\n",
    "            if workpiece_type == \"upper\":\n",
    "                # Load CSV file\n",
    "                df = pd.read_csv(file_path, index_col=0)\n",
    "                time_stamps = df['time'].tolist()\n",
    "                \n",
    "            elif workpiece_type == \"lower\":\n",
    "                # Load TXT file and parse like in LowerInjectionMoldingData\n",
    "                with open(file_path, \"r\") as file:\n",
    "                    lines = file.readlines()\n",
    "                \n",
    "                # Find where data starts (after \"-start data-\")\n",
    "                data_start_idx = None\n",
    "                for i, line in enumerate(lines):\n",
    "                    if \"-start data-\" in line:\n",
    "                        data_start_idx = i + 1\n",
    "                        break\n",
    "                \n",
    "                if data_start_idx is None:\n",
    "                    continue  # Skip files without data section\n",
    "                \n",
    "                # Parse data lines and extract time column (first column)\n",
    "                time_stamps = []\n",
    "                data_lines = lines[data_start_idx:]\n",
    "                for line in data_lines:\n",
    "                    if line.strip():  # Skip empty lines\n",
    "                        values = line.strip().split(\";\")\n",
    "                        time_stamps.append(float(values[0]))  # First column is time\n",
    "            \n",
    "            # Calculate missing stamps\n",
    "            if time_stamps:\n",
    "                max_time = max(time_stamps)\n",
    "                ideal_count = int(max_time / target_interval) + 1\n",
    "                missing_stamps = ideal_count - len(time_stamps)\n",
    "                missing_counts.append(missing_stamps)\n",
    "                \n",
    "        except Exception as e:\n",
    "            print(f\"Warning: Could not process {file_path.name}: {e}\")\n",
    "            continue\n",
    "    \n",
    "    return missing_counts"
   ]
  },
  {
   "cell_type": "markdown",
   "id": "5f613d41",
   "metadata": {},
   "source": [
    "- UPPER:"
   ]
  },
  {
   "cell_type": "code",
   "execution_count": null,
   "id": "091d39c9",
   "metadata": {},
   "outputs": [],
   "source": [
    "target_interval = 0.01 # (remember to round to avoid the floating point issues)\n",
    "\n",
    "plot_injection_missing_stamps(\"upper\")"
   ]
  },
  {
   "cell_type": "markdown",
   "id": "37624f89",
   "metadata": {},
   "source": [
    "- LOWER:"
   ]
  },
  {
   "cell_type": "code",
   "execution_count": null,
   "id": "38a9ab84",
   "metadata": {},
   "outputs": [],
   "source": [
    "target_interval = 0.03 # (?!)\n",
    "\n",
    "plot_injection_missing_stamps(\"lower\")"
   ]
  }
 ],
 "metadata": {
  "kernelspec": {
   "display_name": "venv",
   "language": "python",
   "name": "python3"
  },
  "language_info": {
   "codemirror_mode": {
    "name": "ipython",
    "version": 3
   },
   "file_extension": ".py",
   "mimetype": "text/x-python",
   "name": "python",
   "nbconvert_exporter": "python",
   "pygments_lexer": "ipython3",
   "version": "3.11.9"
  }
 },
 "nbformat": 4,
 "nbformat_minor": 5
}
