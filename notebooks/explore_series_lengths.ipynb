{
 "cells": [
  {
   "cell_type": "markdown",
   "id": "1d75bdf2",
   "metadata": {},
   "source": [
    "### Explore series lengths\n",
    "\n",
    "To perform a good pre-preprocessing with target lengths, this notebook explores the lengths of recorded data. "
   ]
  },
  {
   "cell_type": "code",
   "execution_count": null,
   "id": "703a3722",
   "metadata": {},
   "outputs": [],
   "source": [
    "# Imports\n",
    "\n",
    "import os\n",
    "import sys\n",
    "\n",
    "# Add project root to Python path\n",
    "project_root = os.path.abspath(os.path.join(os.getcwd(), '..'))\n",
    "if project_root not in sys.path:\n",
    "    sys.path.insert(0, project_root)\n",
    "\n",
    "\n",
    "import json\n",
    "from typing import List\n",
    "\n",
    "import matplotlib.pyplot as plt\n",
    "import pandas as pd\n",
    "\n",
    "from schema import ExperimentData\n",
    "from utils import (get_data_path, get_screw_driving_static_data,\n",
    "                   get_screw_driving_serial_data)"
   ]
  },
  {
   "cell_type": "markdown",
   "id": "57527f19",
   "metadata": {},
   "source": [
    "### Screw driving: "
   ]
  },
  {
   "cell_type": "code",
   "execution_count": null,
   "id": "242b3c68",
   "metadata": {},
   "outputs": [],
   "source": [
    "\n",
    "def get_screw_driving_lengths(pos:str = None) -> List[int]: \n",
    "\n",
    "    # Load univariate data for the screw driving recordings \n",
    "    static_data = pd.read_csv(get_screw_driving_static_data(), sep=\";\")\n",
    "\n",
    "    # Filter by workpiece location \n",
    "    static_data = static_data[static_data.workpiece_location==pos]\n",
    "\n",
    "    step_counts = []\n",
    "\n",
    "    # Iterate all file names and check lengths\n",
    "    for file_name in static_data.file_name.tolist():\n",
    "\n",
    "        # Load the json file as dict\n",
    "        with open(get_screw_driving_serial_data(file_name)) as file:\n",
    "            screw_dict = json.load(file)\n",
    "\n",
    "        # Check for length in each file \n",
    "        step_count_angle = 0\n",
    "        step_count_torque = 0\n",
    "        for step in screw_dict[\"tightening steps\"]:\n",
    "            step_count_angle += len(step[\"graph\"][\"angle values\"])\n",
    "            step_count_torque += len(step[\"graph\"][\"torque values\"])\n",
    "\n",
    "        # Double check \n",
    "        assert step_count_angle == step_count_torque\n",
    "        step_counts.append(step_count_angle)\n",
    "\n",
    "    return step_counts\n",
    "\n",
    "def plot_hist(pos:str) -> None: \n",
    "    plt.hist(get_screw_driving_lengths(pos), bins=35)\n",
    "    plt.title(f\"Lengths of {pos} screw runs\")\n",
    "    plt.xlim(0,2200)\n",
    "    plt.show()"
   ]
  },
  {
   "cell_type": "markdown",
   "id": "41780fd7",
   "metadata": {},
   "source": [
    "- LEFT"
   ]
  },
  {
   "cell_type": "code",
   "execution_count": null,
   "id": "6a3b140c",
   "metadata": {},
   "outputs": [],
   "source": [
    "plot_hist(\"left\")"
   ]
  },
  {
   "cell_type": "markdown",
   "id": "314497cd",
   "metadata": {},
   "source": [
    "- RIGHT"
   ]
  },
  {
   "cell_type": "code",
   "execution_count": null,
   "id": "857b46ac",
   "metadata": {},
   "outputs": [],
   "source": [
    "plot_hist(\"right\")"
   ]
  },
  {
   "cell_type": "markdown",
   "id": "05190bf4",
   "metadata": {},
   "source": [
    "### Injection modling:"
   ]
  },
  {
   "cell_type": "code",
   "execution_count": null,
   "id": "6ea6e569",
   "metadata": {},
   "outputs": [],
   "source": [
    "def get_injection_molding_lengths(workpiece_type: str) -> List[int]:\n",
    "   \n",
    "    if workpiece_type == \"upper\":\n",
    "        data_dir = get_data_path(\"injection_molding\", \"upper_workpiece\", \"serial_data\")\n",
    "        file_pattern = \"*.csv\"\n",
    "    elif workpiece_type == \"lower\":\n",
    "        data_dir = get_data_path(\"injection_molding\", \"lower_workpiece\", \"serial_data\") \n",
    "        file_pattern = \"*.txt\"\n",
    "    else:\n",
    "        raise ValueError(f\"workpiece_type must be 'upper' or 'lower', got: {workpiece_type}\")\n",
    "    \n",
    "    lengths = []\n",
    "    \n",
    "    # Get all files matching the pattern\n",
    "    files = list(data_dir.glob(file_pattern))\n",
    "    \n",
    "    for file_path in files:\n",
    "        try:\n",
    "            if workpiece_type == \"upper\":\n",
    "                # Load CSV file\n",
    "                df = pd.read_csv(file_path, index_col=0)\n",
    "                length = len(df)\n",
    "                \n",
    "            elif workpiece_type == \"lower\":\n",
    "                # Load TXT file and parse like in LowerInjectionMoldingData\n",
    "                with open(file_path, \"r\") as file:\n",
    "                    lines = file.readlines()\n",
    "                \n",
    "                # Find where data starts (after \"-start data-\")\n",
    "                data_start_idx = None\n",
    "                for i, line in enumerate(lines):\n",
    "                    if \"-start data-\" in line:\n",
    "                        data_start_idx = i + 1\n",
    "                        break\n",
    "                \n",
    "                if data_start_idx is None:\n",
    "                    continue  # Skip files without data section\n",
    "                    \n",
    "                # Count data lines (skip empty lines)\n",
    "                data_lines = lines[data_start_idx:]\n",
    "                length = sum(1 for line in data_lines if line.strip())\n",
    "            \n",
    "            lengths.append(length)\n",
    "            \n",
    "        except (FileNotFoundError, pd.errors.EmptyDataError, ValueError) as e:\n",
    "            print(f\"Warning: Could not process {file_path.name}: {e}\")\n",
    "            continue\n",
    "    \n",
    "    return lengths\n",
    "\n",
    "\n",
    "\n",
    "def plot_injection_molding_hist(workpiece_type: str) -> None:\n",
    "    lengths = get_injection_molding_lengths(workpiece_type)\n",
    "    plt.hist(lengths, bins=35)\n",
    "    plt.title(f\"Lengths of {workpiece_type} injection molding recordings\")\n",
    "    plt.xlabel(\"Time series length\")\n",
    "    plt.ylabel(\"Count\")\n",
    "    plt.show()"
   ]
  },
  {
   "cell_type": "markdown",
   "id": "a113203f",
   "metadata": {},
   "source": [
    "- UPPER: "
   ]
  },
  {
   "cell_type": "code",
   "execution_count": null,
   "id": "196bb361",
   "metadata": {},
   "outputs": [],
   "source": [
    "plot_injection_molding_hist(\"upper\")"
   ]
  },
  {
   "cell_type": "markdown",
   "id": "a7f4f6c0",
   "metadata": {},
   "source": [
    "- LOWER:"
   ]
  },
  {
   "cell_type": "code",
   "execution_count": null,
   "id": "93915ac6",
   "metadata": {},
   "outputs": [],
   "source": [
    "plot_injection_molding_hist(\"lower\")"
   ]
  },
  {
   "cell_type": "markdown",
   "id": "c848b27f",
   "metadata": {},
   "source": [
    "### Comparison\n",
    "\n",
    "Using boxplots to check the lengths\n"
   ]
  },
  {
   "cell_type": "code",
   "execution_count": null,
   "id": "d305c35b",
   "metadata": {},
   "outputs": [],
   "source": [
    "def plot_all_lengths_comparison() -> None:\n",
    "    \"\"\"Create a box plot comparing time series lengths across all recording types.\"\"\"\n",
    "    # Get lengths for all four types\n",
    "    upper_lengths = get_injection_molding_lengths(\"upper\")\n",
    "    lower_lengths = get_injection_molding_lengths(\"lower\")\n",
    "    screw_left_lengths = get_screw_driving_lengths(\"left\")\n",
    "    screw_right_lengths = get_screw_driving_lengths(\"right\")\n",
    "    \n",
    "    # Prepare data for box plot\n",
    "    data = [upper_lengths, lower_lengths, screw_left_lengths, screw_right_lengths]\n",
    "    labels = ['Upper Injection', 'Lower Injection', 'Screw Left', 'Screw Right']\n",
    "    \n",
    "    # Create box plot\n",
    "    plt.figure(figsize=(10, 6))\n",
    "    box_plot = plt.boxplot(data, tick_labels=labels, patch_artist=True)\n",
    "    \n",
    "    # Color the boxes for better distinction\n",
    "    colors = ['lightblue', 'lightgreen', 'orange', 'pink']\n",
    "    for patch, color in zip(box_plot['boxes'], colors):\n",
    "        patch.set_facecolor(color)\n",
    "    \n",
    "    plt.title('Time Series Length Comparison Across Recording Types')\n",
    "    plt.ylabel('Number of Data Points')\n",
    "    plt.xlabel('Recording Type')\n",
    "    plt.grid(True, alpha=0.3)\n",
    "    plt.xticks(rotation=45)\n",
    "    \n",
    "    # Add some statistics as text\n",
    "    for i, (lengths, label) in enumerate(zip(data, labels)):\n",
    "        if lengths:  # Only if we have data\n",
    "            median_val = pd.Series(lengths).median()\n",
    "            plt.text(i+1, median_val, f'{int(median_val)}', \n",
    "                    ha='center', va='bottom', fontweight='bold')\n",
    "    \n",
    "    plt.tight_layout()\n",
    "    plt.show()\n",
    "    \n",
    "    # Print summary statistics\n",
    "    print(\"\\nSummary Statistics:\")\n",
    "    print(\"-\" * 50)\n",
    "    for lengths, label in zip(data, labels):\n",
    "        if lengths:\n",
    "            series = pd.Series(lengths)\n",
    "            print(f\"{label}:\")\n",
    "            print(f\"  Count: {len(lengths)}\")\n",
    "            print(f\"  Min: {series.min()}\")\n",
    "            print(f\"  Max: {series.max()}\")\n",
    "            print(f\"  Median: {series.median():.0f}\")\n",
    "            print(f\"  Mean: {series.mean():.0f}\")\n",
    "            print()\n",
    "\n",
    "plot_all_lengths_comparison()"
   ]
  }
 ],
 "metadata": {
  "kernelspec": {
   "display_name": "venv",
   "language": "python",
   "name": "python3"
  },
  "language_info": {
   "codemirror_mode": {
    "name": "ipython",
    "version": 3
   },
   "file_extension": ".py",
   "mimetype": "text/x-python",
   "name": "python",
   "nbconvert_exporter": "python",
   "pygments_lexer": "ipython3",
   "version": "3.11.9"
  }
 },
 "nbformat": 4,
 "nbformat_minor": 5
}
